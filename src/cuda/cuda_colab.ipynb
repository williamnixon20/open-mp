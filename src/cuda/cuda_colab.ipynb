{
  "cells": [
    {
      "cell_type": "markdown",
      "metadata": {
        "id": "GY5LBx4UuxZl"
      },
      "source": [
        "# Setup"
      ]
    },
    {
      "cell_type": "markdown",
      "source": [
        "Checking CUDA Installation\n",
        "\n"
      ],
      "metadata": {
        "id": "lOkq8lvi873-"
      }
    },
    {
      "cell_type": "code",
      "source": [
        "!nvcc --version"
      ],
      "metadata": {
        "colab": {
          "base_uri": "https://localhost:8080/"
        },
        "id": "T_Rr3EM_87EI",
        "outputId": "8b1eb9ec-b30c-4981-b9a2-441b4f795ac2"
      },
      "execution_count": null,
      "outputs": [
        {
          "output_type": "stream",
          "name": "stdout",
          "text": [
            "nvcc: NVIDIA (R) Cuda compiler driver\n",
            "Copyright (c) 2005-2023 NVIDIA Corporation\n",
            "Built on Tue_Aug_15_22:02:13_PDT_2023\n",
            "Cuda compilation tools, release 12.2, V12.2.140\n",
            "Build cuda_12.2.r12.2/compiler.33191640_0\n"
          ]
        }
      ]
    },
    {
      "cell_type": "markdown",
      "source": [
        "Install Extension to Enable NVCC in Notebook Cells"
      ],
      "metadata": {
        "id": "XMdTLs3z8-4j"
      }
    },
    {
      "cell_type": "code",
      "source": [
        "!pip install git+https://github.com/andreinechaev/nvcc4jupyter.git"
      ],
      "metadata": {
        "colab": {
          "base_uri": "https://localhost:8080/"
        },
        "id": "iCpywLPt9E3L",
        "outputId": "10dbe6bb-e1e5-48ac-8c8b-9f151c217a3b"
      },
      "execution_count": null,
      "outputs": [
        {
          "output_type": "stream",
          "name": "stdout",
          "text": [
            "Collecting git+https://github.com/andreinechaev/nvcc4jupyter.git\n",
            "  Cloning https://github.com/andreinechaev/nvcc4jupyter.git to /tmp/pip-req-build-hl8lzsm4\n",
            "  Running command git clone --filter=blob:none --quiet https://github.com/andreinechaev/nvcc4jupyter.git /tmp/pip-req-build-hl8lzsm4\n",
            "  Resolved https://github.com/andreinechaev/nvcc4jupyter.git to commit 5741c522547756ac4bb7a16df32106a15efb8a57\n",
            "  Installing build dependencies ... \u001b[?25l\u001b[?25hdone\n",
            "  Getting requirements to build wheel ... \u001b[?25l\u001b[?25hdone\n",
            "  Preparing metadata (pyproject.toml) ... \u001b[?25l\u001b[?25hdone\n",
            "Building wheels for collected packages: nvcc4jupyter\n",
            "  Building wheel for nvcc4jupyter (pyproject.toml) ... \u001b[?25l\u001b[?25hdone\n",
            "  Created wheel for nvcc4jupyter: filename=nvcc4jupyter-1.2.1-py3-none-any.whl size=10739 sha256=99634096e9ae99b658cd96f87c6e8ccf9cbc16bf9f7ab36b8a182687000c7e83\n",
            "  Stored in directory: /tmp/pip-ephem-wheel-cache-07qkwnal/wheels/a8/b9/18/23f8ef71ceb0f63297dd1903aedd067e6243a68ea756d6feea\n",
            "Successfully built nvcc4jupyter\n",
            "Installing collected packages: nvcc4jupyter\n",
            "Successfully installed nvcc4jupyter-1.2.1\n"
          ]
        }
      ]
    },
    {
      "cell_type": "markdown",
      "source": [
        "Checking the installation success state\n"
      ],
      "metadata": {
        "id": "I0PPsZFw9H1I"
      }
    },
    {
      "cell_type": "code",
      "source": [
        "!pip show nvcc4jupyter"
      ],
      "metadata": {
        "colab": {
          "base_uri": "https://localhost:8080/"
        },
        "id": "iuvIuyxF9J_Q",
        "outputId": "936ea2e2-ee87-422f-f25d-3de5daa9517c"
      },
      "execution_count": null,
      "outputs": [
        {
          "output_type": "stream",
          "name": "stdout",
          "text": [
            "Name: nvcc4jupyter\n",
            "Version: 1.2.1\n",
            "Summary: Jupyter notebook plugin to run CUDA C/C++ code\n",
            "Home-page: \n",
            "Author: \n",
            "Author-email: Andrei Nechaev <lyfaradey@yahoo.com>, Cosmin Stefan Ciocan <ciocan.cosmin98@gmail.com>\n",
            "License: MIT License\n",
            "Location: /usr/local/lib/python3.10/dist-packages\n",
            "Requires: \n",
            "Required-by: \n"
          ]
        }
      ]
    },
    {
      "cell_type": "code",
      "source": [
        "!pip install gdown\n",
        "\n",
        "# Download Test case and refs\n",
        "!gdown --folder https://drive.google.com/drive/folders/1ayltedwtb5j6-VNyUeH-XHpJ-f9dGrGd?usp=sharing"
      ],
      "metadata": {
        "colab": {
          "base_uri": "https://localhost:8080/"
        },
        "id": "As8APhXv8IBJ",
        "outputId": "23bfcfb7-4b6e-4ab7-f461-4884ab7a5023"
      },
      "execution_count": null,
      "outputs": [
        {
          "output_type": "stream",
          "name": "stdout",
          "text": [
            "Requirement already satisfied: gdown in /usr/local/lib/python3.10/dist-packages (4.7.3)\n",
            "Requirement already satisfied: filelock in /usr/local/lib/python3.10/dist-packages (from gdown) (3.13.4)\n",
            "Requirement already satisfied: requests[socks] in /usr/local/lib/python3.10/dist-packages (from gdown) (2.31.0)\n",
            "Requirement already satisfied: six in /usr/local/lib/python3.10/dist-packages (from gdown) (1.16.0)\n",
            "Requirement already satisfied: tqdm in /usr/local/lib/python3.10/dist-packages (from gdown) (4.66.2)\n",
            "Requirement already satisfied: beautifulsoup4 in /usr/local/lib/python3.10/dist-packages (from gdown) (4.12.3)\n",
            "Requirement already satisfied: soupsieve>1.2 in /usr/local/lib/python3.10/dist-packages (from beautifulsoup4->gdown) (2.5)\n",
            "Requirement already satisfied: charset-normalizer<4,>=2 in /usr/local/lib/python3.10/dist-packages (from requests[socks]->gdown) (3.3.2)\n",
            "Requirement already satisfied: idna<4,>=2.5 in /usr/local/lib/python3.10/dist-packages (from requests[socks]->gdown) (3.6)\n",
            "Requirement already satisfied: urllib3<3,>=1.21.1 in /usr/local/lib/python3.10/dist-packages (from requests[socks]->gdown) (2.0.7)\n",
            "Requirement already satisfied: certifi>=2017.4.17 in /usr/local/lib/python3.10/dist-packages (from requests[socks]->gdown) (2024.2.2)\n",
            "Requirement already satisfied: PySocks!=1.5.7,>=1.5.6 in /usr/local/lib/python3.10/dist-packages (from requests[socks]->gdown) (1.7.1)\n",
            "Retrieving folder contents\n",
            "Processing file 1uS0KIdpHINiR5be5MwqO9VXXqxdcFilZ 32.txt\n",
            "Processing file 1lzqpgaxVCHE4WH81Yj0B0Fctk4ewp2P9 64.txt\n",
            "Processing file 1lhMG8S4isg0ZKBvZV2-vuBOfF0wRWvWG 128.txt\n",
            "Processing file 1wePn9jkHy0tbIxNM82VKE2xJ3-05sgU9 256.txt\n",
            "Processing file 1ijPv8dz27cpjAn1MfcXEQ5DXNPD9Cjv5 512.txt\n",
            "Processing file 1pbbjPMFNtAtuRW7SREjl79gBjHXIaF0Z 1024.txt\n",
            "Processing file 1NlA9nepEwymBZeEf7-8-LQ2tsr0NHgs3 2048.txt\n",
            "Processing file 1tR_OduEdQQCkRcdghCVKMaplVXHH2GM1 ser_32.txt\n",
            "Processing file 1M4weCiu_iYGqYxQ5f9f2rNKA51OeQpdn ser_64.txt\n",
            "Processing file 1RowyXjsR9f0JwkCKy6NhEs3PQ016F8nB ser_128.txt\n",
            "Processing file 1ERfb8P4VpC599XFWVodenV3aTY2rxluI ser_256.txt\n",
            "Processing file 1ojoV4_A64qdeuGqDXKWbJP_KIEyXhuJ- ser_512.txt\n",
            "Processing file 15G6xVXf30C3kLZyYsyJgr9f9U-xKGGbR ser_1024.txt\n",
            "Processing file 1Uy-kjtnQjeNwWxopfRYNjZ8DKmOlW5_Z ser_2048.txt\n",
            "Retrieving folder contents completed\n",
            "Building directory structure\n",
            "Building directory structure completed\n",
            "Downloading...\n",
            "From: https://drive.google.com/uc?id=1uS0KIdpHINiR5be5MwqO9VXXqxdcFilZ\n",
            "To: /content/ref/32.txt\n",
            "100% 19.8k/19.8k [00:00<00:00, 65.0MB/s]\n",
            "Downloading...\n",
            "From: https://drive.google.com/uc?id=1lzqpgaxVCHE4WH81Yj0B0Fctk4ewp2P9\n",
            "To: /content/ref/64.txt\n",
            "100% 78.9k/78.9k [00:00<00:00, 100MB/s]\n",
            "Downloading...\n",
            "From: https://drive.google.com/uc?id=1lhMG8S4isg0ZKBvZV2-vuBOfF0wRWvWG\n",
            "To: /content/ref/128.txt\n",
            "100% 316k/316k [00:00<00:00, 96.9MB/s]\n",
            "Downloading...\n",
            "From: https://drive.google.com/uc?id=1wePn9jkHy0tbIxNM82VKE2xJ3-05sgU9\n",
            "To: /content/ref/256.txt\n",
            "100% 1.26M/1.26M [00:00<00:00, 172MB/s]\n",
            "Downloading...\n",
            "From: https://drive.google.com/uc?id=1ijPv8dz27cpjAn1MfcXEQ5DXNPD9Cjv5\n",
            "To: /content/ref/512.txt\n",
            "100% 5.05M/5.05M [00:00<00:00, 95.4MB/s]\n",
            "Downloading...\n",
            "From: https://drive.google.com/uc?id=1pbbjPMFNtAtuRW7SREjl79gBjHXIaF0Z\n",
            "To: /content/ref/1024.txt\n",
            "100% 20.2M/20.2M [00:00<00:00, 52.2MB/s]\n",
            "Downloading...\n",
            "From: https://drive.google.com/uc?id=1NlA9nepEwymBZeEf7-8-LQ2tsr0NHgs3\n",
            "To: /content/ref/2048.txt\n",
            "100% 80.8M/80.8M [00:00<00:00, 103MB/s]\n",
            "Downloading...\n",
            "From: https://drive.google.com/uc?id=1tR_OduEdQQCkRcdghCVKMaplVXHH2GM1\n",
            "To: /content/ref/ser_32.txt\n",
            "100% 9.02k/9.02k [00:00<00:00, 3.07MB/s]\n",
            "Downloading...\n",
            "From: https://drive.google.com/uc?id=1M4weCiu_iYGqYxQ5f9f2rNKA51OeQpdn\n",
            "To: /content/ref/ser_64.txt\n",
            "100% 39.9k/39.9k [00:00<00:00, 98.7MB/s]\n",
            "Downloading...\n",
            "From: https://drive.google.com/uc?id=1RowyXjsR9f0JwkCKy6NhEs3PQ016F8nB\n",
            "To: /content/ref/ser_128.txt\n",
            "100% 156k/156k [00:00<00:00, 107MB/s]\n",
            "Downloading...\n",
            "From: https://drive.google.com/uc?id=1ERfb8P4VpC599XFWVodenV3aTY2rxluI\n",
            "To: /content/ref/ser_256.txt\n",
            "100% 634k/634k [00:00<00:00, 174MB/s]\n",
            "Downloading...\n",
            "From: https://drive.google.com/uc?id=1ojoV4_A64qdeuGqDXKWbJP_KIEyXhuJ-\n",
            "To: /content/ref/ser_512.txt\n",
            "100% 2.65M/2.65M [00:00<00:00, 186MB/s]\n",
            "Downloading...\n",
            "From: https://drive.google.com/uc?id=15G6xVXf30C3kLZyYsyJgr9f9U-xKGGbR\n",
            "To: /content/ref/ser_1024.txt\n",
            "100% 10.4M/10.4M [00:00<00:00, 33.1MB/s]\n",
            "Downloading...\n",
            "From: https://drive.google.com/uc?id=1Uy-kjtnQjeNwWxopfRYNjZ8DKmOlW5_Z\n",
            "To: /content/ref/ser_2048.txt\n",
            "100% 42.5M/42.5M [00:00<00:00, 67.0MB/s]\n",
            "Download completed\n"
          ]
        }
      ]
    },
    {
      "cell_type": "markdown",
      "metadata": {
        "id": "KhW3T1YGu6Ew"
      },
      "source": [
        "# Kode CUDA"
      ]
    },
    {
      "cell_type": "code",
      "source": [
        "%%writefile cuda_optimize.cu\n",
        "\n",
        "#include <stdio.h>\n",
        "#include <stdlib.h>\n",
        "#include <cuda_runtime.h>\n",
        "#define EPSILON 1e-9\n",
        "\n",
        "__global__ void normalize_row(double *in, double *out, int row, int N, int stride) {\n",
        "    int _col = blockIdx.x * blockDim.x + threadIdx.x;\n",
        "    int _row = blockIdx.y * blockDim.y + threadIdx.y;\n",
        "\n",
        "    if (_row == row && _col < stride) {\n",
        "        double pivot_value = in[row * stride + row];\n",
        "        if (fabs(pivot_value) > EPSILON) {\n",
        "            out[row * stride + _col] /= pivot_value;\n",
        "        } else {\n",
        "            printf(\"Pivot too small or zero at row %d, cannot normalize.\\n\", row);\n",
        "        }\n",
        "    }\n",
        "}\n",
        "\n",
        "__global__ void eliminate_row(double *in, double *out, int pivot_row, int N, int stride) {\n",
        "    int _col = blockIdx.x * blockDim.x + threadIdx.x;\n",
        "    int _row = blockIdx.y * blockDim.y + threadIdx.y;\n",
        "\n",
        "    if (_row != pivot_row && _row < N && _col < stride) {\n",
        "        // printf(\"_col %d; _row %d;\\n\", _col, _row);\n",
        "        double factor = in[_row * stride + pivot_row];\n",
        "        if (fabs(factor) > EPSILON) {\n",
        "            out[_row * stride + _col] -= factor * in[pivot_row * stride + _col];\n",
        "        }\n",
        "    }\n",
        "}\n",
        "\n",
        "void read_matrix(double *matrix, int N)\n",
        "{\n",
        "    // Read the matrix from stdin\n",
        "    for (int i = 0; i < N; ++i)\n",
        "    {\n",
        "        int curr_offset = i * 2 * N;\n",
        "        for (int j = 0; j < N; ++j)\n",
        "        {\n",
        "            // printf(\"Reading element %d\\n\", i * 2 * N + j);\n",
        "            if (scanf(\"%lf\", &matrix[curr_offset + j]) != 1)\n",
        "            {\n",
        "                fprintf(stderr, \"Error reading matrix element at position (%d, %d).\\n\", i, j);\n",
        "                exit(1);\n",
        "            }\n",
        "        }\n",
        "    }\n",
        "}\n",
        "\n",
        "void initialize_identity(double *matrix, int N) {\n",
        "    for (int i = 0; i < N; i++) {\n",
        "        for (int j = N; j < 2 * N; j++) {\n",
        "            matrix[i * 2 * N + j] = (i == (j - N)) ? 1.0 : 0.0;\n",
        "        }\n",
        "    }\n",
        "}\n",
        "\n",
        "void print_matrix(double *matrix, int num_row, int num_col)\n",
        "{\n",
        "    // Print the matrix\n",
        "    printf(\"Matrix:\\n\");\n",
        "    for (int i = 0; i < num_row; ++i)\n",
        "    {\n",
        "        for (int j = 0; j < num_col; ++j)\n",
        "        {\n",
        "            // printf(\"\\n%d, %d\\n\", i, j);\n",
        "            printf(\"%lf \", matrix[i * num_col + j]);\n",
        "        }\n",
        "        printf(\"\\n\");\n",
        "    }\n",
        "}\n",
        "\n",
        "void invert_matrix(double *h_matrix, int N) {\n",
        "    double *d_matrix, *temp_matrix;\n",
        "    int stride = 2 * N;\n",
        "\n",
        "    cudaMalloc(&d_matrix, sizeof(double) * N * stride);\n",
        "    cudaMemcpy(d_matrix, h_matrix, sizeof(double) * N * stride, cudaMemcpyHostToDevice);\n",
        "\n",
        "    cudaMalloc(&temp_matrix, sizeof(double) * N * stride);\n",
        "    cudaMemcpy(temp_matrix, h_matrix, sizeof(double) * N * stride, cudaMemcpyHostToDevice);\n",
        "\n",
        "    dim3 blocks((stride + 15) / 16, (N + 15) / 16);\n",
        "    dim3 threads(16, 16);\n",
        "\n",
        "    for (int i = 0; i < N; i++) {\n",
        "        // printf(\"START NORMALIZE ROW %d\\n\", i);\n",
        "        normalize_row<<<blocks, threads>>>(d_matrix, temp_matrix, i, N, stride);\n",
        "        cudaDeviceSynchronize();\n",
        "        // printf(\"FINISH NORMALIZE ROW %d\\n\", i);\n",
        "        cudaMemcpy(d_matrix, temp_matrix, sizeof(double) * N * stride, cudaMemcpyDeviceToDevice);\n",
        "\n",
        "        // printf(\"START ELIMINATE ROW %d\\n\", i);\n",
        "        eliminate_row<<<blocks, threads>>>(d_matrix, temp_matrix, i, N, stride);\n",
        "        cudaDeviceSynchronize();\n",
        "        // printf(\"FINISH ELIMINATE ROW %d\\n\", i);\n",
        "        cudaMemcpy(d_matrix, temp_matrix, sizeof(double) * N * stride, cudaMemcpyDeviceToDevice);\n",
        "    }\n",
        "\n",
        "    cudaMemcpy(h_matrix, d_matrix, sizeof(double) * N * stride, cudaMemcpyDeviceToHost);\n",
        "    // print_matrix(h_matrix, N, 2*N);\n",
        "    cudaFree(d_matrix);\n",
        "}\n",
        "\n",
        "void save_file(double *matrix, int N)\n",
        "{\n",
        "    char filename[100]; // Adjust the size according to your needs\n",
        "    snprintf(filename, sizeof(filename), \"cuda_inverse_opt_%d.txt\", N);\n",
        "\n",
        "    // Open the file\n",
        "    FILE *file = fopen(filename, \"w\");\n",
        "    if (file != NULL)\n",
        "    {\n",
        "        fprintf(file, \"%d\\n\", N);\n",
        "        for (int i = 0; i < N; i++)\n",
        "        {\n",
        "            int curr_offset = i * 2 * N;\n",
        "            for (int j = N; j < 2 * N; j++)\n",
        "            {\n",
        "                fprintf(file, \"%f \", matrix[curr_offset + j]);\n",
        "            }\n",
        "            fprintf(file, \"\\n\");\n",
        "        }\n",
        "        fclose(file);\n",
        "        printf(\"Result matrix logged to file named cuda_inverse_opt_%d.txt.\\n\", N);\n",
        "    }\n",
        "    else\n",
        "    {\n",
        "        printf(\"Failed to open file for logging.\\n\");\n",
        "    }\n",
        "}\n",
        "\n",
        "int main(void) {\n",
        "    int N;\n",
        "    double *matrix = NULL;\n",
        "\n",
        "    if (scanf(\"%d\\n\", &N) == 1)\n",
        "    {\n",
        "        matrix = (double *)malloc(sizeof(double) * N * 2 * N);\n",
        "        if (matrix == NULL)\n",
        "        {\n",
        "            fprintf(stderr, \"Malloc error for matrix! Aborting.. \\n\");\n",
        "            exit(1);\n",
        "        }\n",
        "        read_matrix(matrix, N);\n",
        "        initialize_identity(matrix, N);\n",
        "    }\n",
        "\n",
        "    invert_matrix(matrix, N);\n",
        "\n",
        "    save_file(matrix, N);\n",
        "\n",
        "    free(matrix);\n",
        "    return 0;\n",
        "}"
      ],
      "metadata": {
        "id": "q7QkDC5xBp0q",
        "colab": {
          "base_uri": "https://localhost:8080/"
        },
        "outputId": "c8223615-2183-4666-f1fb-59764e0662b4"
      },
      "execution_count": null,
      "outputs": [
        {
          "output_type": "stream",
          "name": "stdout",
          "text": [
            "Writing cuda_optimize.cu\n"
          ]
        }
      ]
    },
    {
      "cell_type": "code",
      "source": [
        "!nvcc cuda_optimize.cu -o cuda_optimize"
      ],
      "metadata": {
        "id": "s47KGk3vBxYx"
      },
      "execution_count": null,
      "outputs": []
    },
    {
      "cell_type": "markdown",
      "metadata": {
        "id": "nIeRvE2tn2_6"
      },
      "source": [
        "# Execution"
      ]
    },
    {
      "cell_type": "code",
      "execution_count": null,
      "metadata": {
        "id": "RNN_pTxgn2_6",
        "colab": {
          "base_uri": "https://localhost:8080/"
        },
        "outputId": "cb12853b-2444-4d7b-d116-5262eaa233f0"
      },
      "outputs": [
        {
          "output_type": "stream",
          "name": "stdout",
          "text": [
            "Result matrix logged to file named cuda_inverse_opt_2048.txt.\n",
            "\n",
            "real\t0m6.499s\n",
            "user\t0m6.178s\n",
            "sys\t0m0.254s\n"
          ]
        }
      ],
      "source": [
        "!time ./cuda_optimize < 2048.txt"
      ]
    },
    {
      "cell_type": "code",
      "source": [
        "sizes = [32,64,128,256,512,1024,2048]\n",
        "for elem in sizes:\n",
        "    print(f\"Running cuda_optimize for {elem} elements\")\n",
        "    !time ./cuda_optimize < ./ref/{elem}.txt"
      ],
      "metadata": {
        "id": "lrIapH3LB1BE",
        "colab": {
          "base_uri": "https://localhost:8080/"
        },
        "outputId": "0dc7cce6-7a96-4ee2-d22d-6b843719e1a8"
      },
      "execution_count": null,
      "outputs": [
        {
          "output_type": "stream",
          "name": "stdout",
          "text": [
            "Running cuda_optimize for 32 elements\n",
            "Result matrix logged to file named cuda_inverse_opt_32.txt.\n",
            "\n",
            "real\t0m0.556s\n",
            "user\t0m0.092s\n",
            "sys\t0m0.254s\n",
            "Running cuda_optimize for 64 elements\n",
            "Result matrix logged to file named cuda_inverse_opt_64.txt.\n",
            "\n",
            "real\t0m0.289s\n",
            "user\t0m0.024s\n",
            "sys\t0m0.214s\n",
            "Running cuda_optimize for 128 elements\n",
            "Result matrix logged to file named cuda_inverse_opt_128.txt.\n",
            "\n",
            "real\t0m0.292s\n",
            "user\t0m0.038s\n",
            "sys\t0m0.210s\n",
            "Running cuda_optimize for 256 elements\n",
            "Result matrix logged to file named cuda_inverse_opt_256.txt.\n",
            "\n",
            "real\t0m0.274s\n",
            "user\t0m0.074s\n",
            "sys\t0m0.191s\n",
            "Running cuda_optimize for 512 elements\n",
            "Result matrix logged to file named cuda_inverse_opt_512.txt.\n",
            "\n",
            "real\t0m0.430s\n",
            "user\t0m0.227s\n",
            "sys\t0m0.197s\n",
            "Running cuda_optimize for 1024 elements\n",
            "Result matrix logged to file named cuda_inverse_opt_1024.txt.\n",
            "\n",
            "real\t0m1.258s\n",
            "user\t0m1.041s\n",
            "sys\t0m0.213s\n",
            "Running cuda_optimize for 2048 elements\n",
            "Result matrix logged to file named cuda_inverse_opt_2048.txt.\n",
            "\n",
            "real\t0m6.069s\n",
            "user\t0m5.772s\n",
            "sys\t0m0.286s\n"
          ]
        }
      ]
    },
    {
      "cell_type": "markdown",
      "source": [
        "# Compare W/ Serial"
      ],
      "metadata": {
        "id": "WAmnGXsA4dhH"
      }
    },
    {
      "cell_type": "code",
      "source": [
        "def read_matrix_from_file(file_path):\n",
        "    matrix = []\n",
        "    with open(file_path, 'r') as file:\n",
        "        N = int(file.readline())\n",
        "\n",
        "        for _ in range(N):\n",
        "            row = list(map(float, file.readline().split()))\n",
        "            matrix.append(row)\n",
        "    return matrix\n",
        "\n",
        "def compare_matrix(mtx1, mtx2, eps=1e-4):\n",
        "    if len(mtx1) != len(mtx2) or len(mtx1[0]) != len(mtx2[0]):\n",
        "        return False\n",
        "    flag = True\n",
        "\n",
        "    for i in range(len(mtx1)):\n",
        "        for j in range(len(mtx1[0])):\n",
        "            if abs(mtx1[i][j] - mtx2[i][j]) > eps:\n",
        "                print(f\"Mismatch in {i}: {mtx1[i][j]}, {j}: {mtx2[i][j]} \")\n",
        "                flag = False\n",
        "    return flag\n",
        "\n",
        "sizes = [32,64,128,256,512,1024,2048]\n",
        "for elem in sizes:\n",
        "    file_path_cuda = f\"./cuda_inverse_opt_{elem}.txt\"\n",
        "    file_path_serial = f\"./ref/ser_{elem}.txt\"\n",
        "    matrix_cuda = read_matrix_from_file(file_path_cuda)\n",
        "    matrix_serial = read_matrix_from_file(file_path_serial)\n",
        "\n",
        "    if compare_matrix(matrix_cuda, matrix_serial):\n",
        "        print(f\"For {elem} elements: Matrices are approximately equal.\")\n",
        "    else:\n",
        "        print(f\"For {elem} elements: Matrices are not equal.\")"
      ],
      "metadata": {
        "colab": {
          "base_uri": "https://localhost:8080/"
        },
        "id": "C4aDAsnI4h76",
        "outputId": "ce8c6912-6b22-413f-b638-e0f33091acf5"
      },
      "execution_count": null,
      "outputs": [
        {
          "output_type": "stream",
          "name": "stdout",
          "text": [
            "For 32 elements: Matrices are approximately equal.\n",
            "For 64 elements: Matrices are approximately equal.\n",
            "For 128 elements: Matrices are approximately equal.\n",
            "For 256 elements: Matrices are approximately equal.\n",
            "For 512 elements: Matrices are approximately equal.\n",
            "For 1024 elements: Matrices are approximately equal.\n",
            "For 2048 elements: Matrices are approximately equal.\n"
          ]
        }
      ]
    }
  ],
  "metadata": {
    "accelerator": "GPU",
    "colab": {
      "provenance": [],
      "gpuType": "T4"
    },
    "kernelspec": {
      "display_name": "Python 3",
      "name": "python3"
    },
    "language_info": {
      "codemirror_mode": {
        "name": "ipython",
        "version": 3
      },
      "file_extension": ".py",
      "mimetype": "text/x-python",
      "name": "python",
      "nbconvert_exporter": "python",
      "pygments_lexer": "ipython3",
      "version": "3.9.6"
    }
  },
  "nbformat": 4,
  "nbformat_minor": 0
}