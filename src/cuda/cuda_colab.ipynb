{
  "cells": [
    {
      "cell_type": "markdown",
      "metadata": {
        "id": "GY5LBx4UuxZl"
      },
      "source": [
        "# Setup"
      ]
    },
    {
      "cell_type": "markdown",
      "metadata": {
        "id": "lOkq8lvi873-"
      },
      "source": [
        "Checking CUDA Installation\n",
        "\n"
      ]
    },
    {
      "cell_type": "code",
      "execution_count": null,
      "metadata": {
        "colab": {
          "base_uri": "https://localhost:8080/"
        },
        "id": "T_Rr3EM_87EI",
        "outputId": "7a0def0b-1e3b-404c-9da0-263d4fb52c78"
      },
      "outputs": [],
      "source": [
        "!nvcc --version"
      ]
    },
    {
      "cell_type": "markdown",
      "metadata": {
        "id": "XMdTLs3z8-4j"
      },
      "source": [
        "Install Extension to Enable NVCC in Notebook Cells"
      ]
    },
    {
      "cell_type": "code",
      "execution_count": null,
      "metadata": {
        "colab": {
          "base_uri": "https://localhost:8080/"
        },
        "id": "iCpywLPt9E3L",
        "outputId": "34ab95fe-549d-4e2f-c8a9-82144d313ba0"
      },
      "outputs": [],
      "source": [
        "!pip install git+https://github.com/andreinechaev/nvcc4jupyter.git"
      ]
    },
    {
      "cell_type": "markdown",
      "metadata": {
        "id": "I0PPsZFw9H1I"
      },
      "source": [
        "Checking the installation success state\n"
      ]
    },
    {
      "cell_type": "code",
      "execution_count": null,
      "metadata": {
        "colab": {
          "base_uri": "https://localhost:8080/"
        },
        "id": "iuvIuyxF9J_Q",
        "outputId": "bca9453a-0824-41bc-aa7a-9a6637083dd7"
      },
      "outputs": [],
      "source": [
        "!pip show nvcc4jupyter"
      ]
    },
    {
      "cell_type": "markdown",
      "metadata": {
        "id": "KhW3T1YGu6Ew"
      },
      "source": [
        "# Kode CUDA"
      ]
    },
    {
      "cell_type": "code",
      "execution_count": null,
      "metadata": {
        "colab": {
          "base_uri": "https://localhost:8080/"
        },
        "id": "Co9T1Xpo3AnO",
        "outputId": "7cc594e2-8092-45cc-b771-6910f1f435d1"
      },
      "outputs": [],
      "source": [
        "%%writefile cuda.cu\n",
        "\n",
        "#include <stdio.h>\n",
        "#include <stdlib.h>\n",
        "#include <cuda_runtime.h>\n",
        "#define EPSILON 1e-9\n",
        "\n",
        "__global__ void normalize_row(double *matrix, int row, int N, int stride) {\n",
        "    int idx = threadIdx.x + blockIdx.x * blockDim.x;\n",
        "    if (idx < stride) {\n",
        "        double pivot_value = matrix[row * stride + row];\n",
        "        if (fabs(pivot_value) > EPSILON) {\n",
        "            matrix[row * stride + idx] /= pivot_value;\n",
        "        } else {\n",
        "            printf(\"Pivot too small or zero at row %d, cannot normalize.\\n\", row);\n",
        "        }\n",
        "    }\n",
        "}\n",
        "\n",
        "__global__ void eliminate_row(double *matrix, int pivot_row, int curr_row, int N, int stride) {\n",
        "    int idx = threadIdx.x + blockIdx.x * blockDim.x;\n",
        "    if (idx < stride) {\n",
        "        double factor = matrix[curr_row * stride + pivot_row];\n",
        "        if (fabs(factor) > EPSILON) {\n",
        "            matrix[curr_row * stride + idx] -= factor * matrix[pivot_row * stride + idx];\n",
        "        }\n",
        "    }\n",
        "}\n",
        "\n",
        "void read_matrix(double *matrix, int N)\n",
        "{\n",
        "    // Read the matrix from stdin\n",
        "    for (int i = 0; i < N; ++i)\n",
        "    {\n",
        "        int curr_offset = i * 2 * N;\n",
        "        for (int j = 0; j < N; ++j)\n",
        "        {\n",
        "            // printf(\"Reading element %d\\n\", i * 2 * N + j);\n",
        "            if (scanf(\"%lf\", &matrix[curr_offset + j]) != 1)\n",
        "            {\n",
        "                fprintf(stderr, \"Error reading matrix element at position (%d, %d).\\n\", i, j);\n",
        "                exit(1);\n",
        "            }\n",
        "        }\n",
        "    }\n",
        "}\n",
        "\n",
        "void initialize_identity(double *matrix, int N) {\n",
        "    for (int i = 0; i < N; i++) {\n",
        "        for (int j = N; j < 2 * N; j++) {\n",
        "            matrix[i * 2 * N + j] = (i == (j - N)) ? 1.0 : 0.0;\n",
        "        }\n",
        "    }\n",
        "}\n",
        "\n",
        "void invert_matrix(double *h_matrix, int N) {\n",
        "    double *d_matrix;\n",
        "    int stride = 2 * N;\n",
        "\n",
        "    cudaMalloc(&d_matrix, sizeof(double) * N * stride);\n",
        "    cudaMemcpy(d_matrix, h_matrix, sizeof(double) * N * stride, cudaMemcpyHostToDevice);\n",
        "\n",
        "    dim3 blocks((stride + 255) / 256);\n",
        "    dim3 threads(256);\n",
        "\n",
        "    for (int i = 0; i < N; i++) {\n",
        "        normalize_row<<<blocks, threads>>>(d_matrix, i, N, stride);\n",
        "        cudaDeviceSynchronize();\n",
        "\n",
        "        for (int j = 0; j < N; j++) {\n",
        "            if (i != j) {\n",
        "                eliminate_row<<<blocks, threads>>>(d_matrix, i, j, N, stride);\n",
        "                cudaDeviceSynchronize();\n",
        "            }\n",
        "        }\n",
        "    }\n",
        "\n",
        "    cudaMemcpy(h_matrix, d_matrix, sizeof(double) * N * stride, cudaMemcpyDeviceToHost);\n",
        "    cudaFree(d_matrix);\n",
        "}\n",
        "\n",
        "void save_file(double *matrix, int N)\n",
        "{\n",
        "    char filename[100]; // Adjust the size according to your needs\n",
        "    snprintf(filename, sizeof(filename), \"mp_inverse_%d.txt\", N);\n",
        "\n",
        "    // Open the file\n",
        "    FILE *file = fopen(filename, \"w\");\n",
        "    if (file != NULL)\n",
        "    {\n",
        "        fprintf(file, \"%d\\n\", N);\n",
        "        for (int i = 0; i < N; i++)\n",
        "        {\n",
        "            int curr_offset = i * 2 * N;\n",
        "            for (int j = N; j < 2 * N; j++)\n",
        "            {\n",
        "                fprintf(file, \"%f \", matrix[curr_offset + j]);\n",
        "            }\n",
        "            fprintf(file, \"\\n\");\n",
        "        }\n",
        "        fclose(file);\n",
        "        printf(\"Result matrix logged to file named mp_inverse_%d.txt.\\n\", N);\n",
        "    }\n",
        "    else\n",
        "    {\n",
        "        printf(\"Failed to open file for logging.\\n\");\n",
        "    }\n",
        "}\n",
        "\n",
        "int main(void) {\n",
        "    int N;\n",
        "    double *matrix = NULL;\n",
        "\n",
        "    if (scanf(\"%d\\n\", &N) == 1)\n",
        "    {\n",
        "        matrix = (double *)malloc(sizeof(double) * N * 2 * N);\n",
        "        if (matrix == NULL)\n",
        "        {\n",
        "            fprintf(stderr, \"Malloc error for matrix! Aborting.. \\n\");\n",
        "            exit(1);\n",
        "        }\n",
        "        read_matrix(matrix, N);\n",
        "        initialize_identity(matrix, N);\n",
        "    }\n",
        "\n",
        "    invert_matrix(matrix, N);\n",
        "\n",
        "    save_file(matrix, N);\n",
        "\n",
        "    free(matrix);\n",
        "    return 0;\n",
        "}"
      ]
    },
    {
      "cell_type": "markdown",
      "metadata": {
        "id": "dfEh2KDZ-7lN"
      },
      "source": [
        "Compiling the cuda code"
      ]
    },
    {
      "cell_type": "code",
      "execution_count": null,
      "metadata": {
        "id": "h6eFuOC1qTid"
      },
      "outputs": [],
      "source": [
        "!nvcc cuda.cu -o cuda"
      ]
    },
    {
      "cell_type": "markdown",
      "metadata": {
        "id": "-t4bNRTgs6AC"
      },
      "source": [
        "# Get Testcase"
      ]
    },
    {
      "cell_type": "code",
      "execution_count": null,
      "metadata": {
        "id": "Hw2QeQkFs9xG"
      },
      "outputs": [],
      "source": [
        "#!gsutil cp <Link testcase> .\n"
      ]
    },
    {
      "cell_type": "markdown",
      "metadata": {
        "id": "nIeRvE2tn2_6"
      },
      "source": [
        "# Execution"
      ]
    },
    {
      "cell_type": "code",
      "execution_count": null,
      "metadata": {
        "colab": {
          "base_uri": "https://localhost:8080/"
        },
        "id": "VJ1hAUlwENG7",
        "outputId": "56b1fc4d-178c-443e-a350-b77956630c4e"
      },
      "outputs": [],
      "source": [
        "!./cuda < 64.txt"
      ]
    },
    {
      "cell_type": "code",
      "execution_count": null,
      "metadata": {
        "colab": {
          "base_uri": "https://localhost:8080/"
        },
        "id": "RNN_pTxgn2_6",
        "outputId": "833fe445-40b5-41fc-ed20-58d80255b2b7"
      },
      "outputs": [],
      "source": [
        "!./cuda < 1024.txt"
      ]
    }
  ],
  "metadata": {
    "accelerator": "GPU",
    "colab": {
      "gpuType": "T4",
      "provenance": []
    },
    "kernelspec": {
      "display_name": "Python 3",
      "name": "python3"
    },
    "language_info": {
      "codemirror_mode": {
        "name": "ipython",
        "version": 3
      },
      "file_extension": ".py",
      "mimetype": "text/x-python",
      "name": "python",
      "nbconvert_exporter": "python",
      "pygments_lexer": "ipython3",
      "version": "3.9.6"
    }
  },
  "nbformat": 4,
  "nbformat_minor": 0
}
